{
  "nbformat": 4,
  "nbformat_minor": 0,
  "metadata": {
    "colab": {
      "provenance": [],
      "authorship_tag": "ABX9TyM1a7mBh8PT+IiVFtgzQG0K",
      "include_colab_link": true
    },
    "kernelspec": {
      "name": "python3",
      "display_name": "Python 3"
    },
    "language_info": {
      "name": "python"
    }
  },
  "cells": [
    {
      "cell_type": "markdown",
      "metadata": {
        "id": "view-in-github",
        "colab_type": "text"
      },
      "source": [
        "<a href=\"https://colab.research.google.com/github/Erijames/case_shape/blob/main/Untitled4.ipynb\" target=\"_parent\"><img src=\"https://colab.research.google.com/assets/colab-badge.svg\" alt=\"Open In Colab\"/></a>"
      ]
    },
    {
      "cell_type": "code",
      "source": [
        "# Import\n",
        "import pandas as pd\n",
        "import re\n",
        "\n",
        "# criar uma classe\n",
        "class DataPipeline:\n",
        "    def __init__(self):\n",
        "        pass\n",
        "\n",
        "    # Criar metodoo\n",
        "    def load_data(self):\n",
        "        df_json = pd.read_json('equipment.json')\n",
        "        df_csv = pd.read_csv('equipment_sensors.csv')\n",
        "        df_txt = pd.read_csv('/content/equpment_failure_sensors.txt', header=None, sep='\\t')\n",
        "        # dar nomes as colunas do arquivo TXT\n",
        "        df_txt.columns = ['timestamp','error_type','sensor_id','temperature','vibration','']\n",
        "        return df_json, df_csv, df_txt\n",
        "\n",
        "    # extrair o número do sensor_id\n",
        "    def extract_sensor_id(self, sensor_str):\n",
        "        # Aqui, vamos procurar por um número dentro de colchetes\n",
        "        match = re.search(r'\\[(\\d+)\\]', sensor_str)\n",
        "        if match:\n",
        "            return int(match.group(1))\n",
        "        else:\n",
        "            return None\n",
        "\n",
        "    # preparar nossos dados do arquivo TXT, aplicando a extração do sensor_id\n",
        "    def preprocess_data(self, df_txt):\n",
        "        # função extract_sensor_id para cada valor na coluna sensor_id\n",
        "        df_txt['sensor_id'] = df_txt['sensor_id'].apply(self.extract_sensor_id)\n",
        "        return df_txt\n",
        "\n",
        "    # analisar as falhas, calcular estatisticas e classificar os sensores\n",
        "    def analyze_failures(self, df_txt, df_json, df_csv):\n",
        "        # Vamos contar quantas vezes cada sensor falhou\n",
        "        failures_per_sensor = df_txt.groupby('sensor_id')['error_type'].count()\n",
        "        # contar quantos sensores falharam pelo menos uma vez\n",
        "        total_failures = (failures_per_sensor > 0).sum()\n",
        "        #equipamento teve mais falhas\n",
        "        equipment_most_failures = df_json['name'].value_counts().idxmax()\n",
        "\n",
        "        # mesclar  DataFrames para ter todas as informacoes\n",
        "        merged_df = df_json.merge(df_csv, how='inner', left_on='equipment_id', right_on='equipment_id')\n",
        "        merged_df = merged_df.merge(df_txt, how='inner', left_on='equipment_id', right_on='sensor_id')\n",
        "\n",
        "        # numero de falhas por grupo de equipamentos\n",
        "        failures_per_group = merged_df.groupby('group_name').size()\n",
        "        # media de falhas por grupo\n",
        "        avg_failures_per_group = failures_per_group.mean()\n",
        "\n",
        "        # classificar os sensores com mais falhas\n",
        "        rank_sensors_by_failures = df_json.merge(df_csv, how='inner', left_on='equipment_id', right_on='equipment_id')\n",
        "        rank_sensors_by_failures = rank_sensors_by_failures.merge(df_txt, how='inner', left_on='equipment_id', right_on='sensor_id')\n",
        "        rank_sensors_by_failures = rank_sensors_by_failures.groupby(['name', 'group_name']).size().reset_index(name='sensor_failures')\n",
        "        rank_sensors_by_failures = rank_sensors_by_failures.sort_values(by=['group_name', 'name', 'sensor_failures'], ascending=[True, True, False])\n",
        "        rank_sensors_by_failures.reset_index(drop=True, inplace=True)\n",
        "\n",
        "        # retornar todas os calculos\n",
        "        return total_failures, equipment_most_failures, avg_failures_per_group, rank_sensors_by_failures\n",
        "\n",
        "if __name__ == \"__main__\":\n",
        "    # instancia da classe\n",
        "    pipeline = DataPipeline()\n",
        "    # carregar nossos dados dos arquivos\n",
        "    df_json, df_csv, df_txt = pipeline.load_data()\n",
        "    df_txt = pipeline.preprocess_data(df_txt)\n",
        "    total_failures, equipment_most_failures, avg_failures_per_group, rank_sensors_by_failures = pipeline.analyze_failures(df_txt, df_json, df_csv)\n",
        "\n",
        "    # exibir nossas estatisticas para ver o que descobrimos\n",
        "    print(\"Total de falhas de equipamento:\", total_failures)\n",
        "    print(\"Equipamento com mais falhas:\", equipment_most_failures)\n",
        "    print(\"Média de falhas por grupo de equipamentos:\")\n",
        "    print(avg_failures_per_group)\n",
        "    print(\"Rank dos sensores com mais falhas por nome do equipamento em um grupo de equipamentos:\")\n",
        "    print(rank_sensors_by_failures)\n"
      ],
      "metadata": {
        "colab": {
          "base_uri": "https://localhost:8080/"
        },
        "id": "KBMHoYD7R-69",
        "outputId": "9bf6ffc1-7bc2-464f-8ade-d14ce2f4b2f0"
      },
      "execution_count": 287,
      "outputs": [
        {
          "output_type": "stream",
          "name": "stdout",
          "text": [
            "Total de falhas de equipamento: 10000\n",
            "Equipamento com mais falhas: 5310B9D7\n",
            "Média de falhas por grupo de equipamentos:\n",
            "831902.3333333334\n",
            "Rank dos sensores com mais falhas por nome do equipamento em um grupo de equipamentos:\n",
            "        name group_name  sensor_failures\n",
            "0   78FFAD0C   9N127Z5P           380562\n",
            "1   ADE40E7F   9N127Z5P           324610\n",
            "2   5310B9D7   FGHQWR2Q           368225\n",
            "3   CF304D24   FGHQWR2Q           377706\n",
            "4   E1AD07D4   FGHQWR2Q           366795\n",
            "5   E54B5C3A   FGHQWR2Q           369852\n",
            "6   86083278   NQWPA8D3           350574\n",
            "7   98B84035   NQWPA8D3           330582\n",
            "8   09C37FB8   PA92NCXZ           332724\n",
            "9   9AD15F7E   PA92NCXZ           352002\n",
            "10  2C195700   VAPQY59S           352002\n",
            "11  3329175B   VAPQY59S           347718\n",
            "12  43B81579   VAPQY59S           357500\n",
            "13  4E834E81   Z9K1SAP4           380562\n"
          ]
        }
      ]
    }
  ]
}